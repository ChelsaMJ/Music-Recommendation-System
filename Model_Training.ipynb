{
  "cells": [
    {
      "cell_type": "code",
      "execution_count": 44,
      "metadata": {
        "id": "FCW60lByx_Bv"
      },
      "outputs": [],
      "source": [
        "import pandas as pd"
      ]
    },
    {
      "cell_type": "code",
      "execution_count": 45,
      "metadata": {
        "colab": {
          "base_uri": "https://localhost:8080/",
          "height": 374
        },
        "id": "qaLKGLZ4yMgI",
        "outputId": "ec860915-ad2b-437d-fa48-0e4bdf4baed6"
      },
      "outputs": [],
      "source": [
        "df = pd.read_csv(\"spotify_millsongdata.csv\")"
      ]
    },
    {
      "cell_type": "code",
      "execution_count": 46,
      "metadata": {
        "id": "aQ5G2DF8ySIn"
      },
      "outputs": [
        {
          "data": {
            "text/html": [
              "<div>\n",
              "<style scoped>\n",
              "    .dataframe tbody tr th:only-of-type {\n",
              "        vertical-align: middle;\n",
              "    }\n",
              "\n",
              "    .dataframe tbody tr th {\n",
              "        vertical-align: top;\n",
              "    }\n",
              "\n",
              "    .dataframe thead th {\n",
              "        text-align: right;\n",
              "    }\n",
              "</style>\n",
              "<table border=\"1\" class=\"dataframe\">\n",
              "  <thead>\n",
              "    <tr style=\"text-align: right;\">\n",
              "      <th></th>\n",
              "      <th>artist</th>\n",
              "      <th>song</th>\n",
              "      <th>link</th>\n",
              "      <th>text</th>\n",
              "    </tr>\n",
              "  </thead>\n",
              "  <tbody>\n",
              "    <tr>\n",
              "      <th>0</th>\n",
              "      <td>ABBA</td>\n",
              "      <td>Ahe's My Kind Of Girl</td>\n",
              "      <td>/a/abba/ahes+my+kind+of+girl_20598417.html</td>\n",
              "      <td>Look at her face, it's a wonderful face  \\r\\nA...</td>\n",
              "    </tr>\n",
              "    <tr>\n",
              "      <th>1</th>\n",
              "      <td>ABBA</td>\n",
              "      <td>Andante, Andante</td>\n",
              "      <td>/a/abba/andante+andante_20002708.html</td>\n",
              "      <td>Take it easy with me, please  \\r\\nTouch me gen...</td>\n",
              "    </tr>\n",
              "    <tr>\n",
              "      <th>2</th>\n",
              "      <td>ABBA</td>\n",
              "      <td>As Good As New</td>\n",
              "      <td>/a/abba/as+good+as+new_20003033.html</td>\n",
              "      <td>I'll never know why I had to go  \\r\\nWhy I had...</td>\n",
              "    </tr>\n",
              "    <tr>\n",
              "      <th>3</th>\n",
              "      <td>ABBA</td>\n",
              "      <td>Bang</td>\n",
              "      <td>/a/abba/bang_20598415.html</td>\n",
              "      <td>Making somebody happy is a question of give an...</td>\n",
              "    </tr>\n",
              "    <tr>\n",
              "      <th>4</th>\n",
              "      <td>ABBA</td>\n",
              "      <td>Bang-A-Boomerang</td>\n",
              "      <td>/a/abba/bang+a+boomerang_20002668.html</td>\n",
              "      <td>Making somebody happy is a question of give an...</td>\n",
              "    </tr>\n",
              "  </tbody>\n",
              "</table>\n",
              "</div>"
            ],
            "text/plain": [
              "  artist                   song                                        link  \\\n",
              "0   ABBA  Ahe's My Kind Of Girl  /a/abba/ahes+my+kind+of+girl_20598417.html   \n",
              "1   ABBA       Andante, Andante       /a/abba/andante+andante_20002708.html   \n",
              "2   ABBA         As Good As New        /a/abba/as+good+as+new_20003033.html   \n",
              "3   ABBA                   Bang                  /a/abba/bang_20598415.html   \n",
              "4   ABBA       Bang-A-Boomerang      /a/abba/bang+a+boomerang_20002668.html   \n",
              "\n",
              "                                                text  \n",
              "0  Look at her face, it's a wonderful face  \\r\\nA...  \n",
              "1  Take it easy with me, please  \\r\\nTouch me gen...  \n",
              "2  I'll never know why I had to go  \\r\\nWhy I had...  \n",
              "3  Making somebody happy is a question of give an...  \n",
              "4  Making somebody happy is a question of give an...  "
            ]
          },
          "execution_count": 46,
          "metadata": {},
          "output_type": "execute_result"
        }
      ],
      "source": [
        "df.head(5)"
      ]
    },
    {
      "cell_type": "code",
      "execution_count": 47,
      "metadata": {
        "id": "blv7berezeqz"
      },
      "outputs": [
        {
          "data": {
            "text/html": [
              "<div>\n",
              "<style scoped>\n",
              "    .dataframe tbody tr th:only-of-type {\n",
              "        vertical-align: middle;\n",
              "    }\n",
              "\n",
              "    .dataframe tbody tr th {\n",
              "        vertical-align: top;\n",
              "    }\n",
              "\n",
              "    .dataframe thead th {\n",
              "        text-align: right;\n",
              "    }\n",
              "</style>\n",
              "<table border=\"1\" class=\"dataframe\">\n",
              "  <thead>\n",
              "    <tr style=\"text-align: right;\">\n",
              "      <th></th>\n",
              "      <th>artist</th>\n",
              "      <th>song</th>\n",
              "      <th>link</th>\n",
              "      <th>text</th>\n",
              "    </tr>\n",
              "  </thead>\n",
              "  <tbody>\n",
              "    <tr>\n",
              "      <th>57645</th>\n",
              "      <td>Ziggy Marley</td>\n",
              "      <td>Good Old Days</td>\n",
              "      <td>/z/ziggy+marley/good+old+days_10198588.html</td>\n",
              "      <td>Irie days come on play  \\r\\nLet the angels fly...</td>\n",
              "    </tr>\n",
              "    <tr>\n",
              "      <th>57646</th>\n",
              "      <td>Ziggy Marley</td>\n",
              "      <td>Hand To Mouth</td>\n",
              "      <td>/z/ziggy+marley/hand+to+mouth_20531167.html</td>\n",
              "      <td>Power to the workers  \\r\\nMore power  \\r\\nPowe...</td>\n",
              "    </tr>\n",
              "    <tr>\n",
              "      <th>57647</th>\n",
              "      <td>Zwan</td>\n",
              "      <td>Come With Me</td>\n",
              "      <td>/z/zwan/come+with+me_20148981.html</td>\n",
              "      <td>all you need  \\r\\nis something i'll believe  \\...</td>\n",
              "    </tr>\n",
              "    <tr>\n",
              "      <th>57648</th>\n",
              "      <td>Zwan</td>\n",
              "      <td>Desire</td>\n",
              "      <td>/z/zwan/desire_20148986.html</td>\n",
              "      <td>northern star  \\r\\nam i frightened  \\r\\nwhere ...</td>\n",
              "    </tr>\n",
              "    <tr>\n",
              "      <th>57649</th>\n",
              "      <td>Zwan</td>\n",
              "      <td>Heartsong</td>\n",
              "      <td>/z/zwan/heartsong_20148991.html</td>\n",
              "      <td>come in  \\r\\nmake yourself at home  \\r\\ni'm a ...</td>\n",
              "    </tr>\n",
              "  </tbody>\n",
              "</table>\n",
              "</div>"
            ],
            "text/plain": [
              "             artist           song  \\\n",
              "57645  Ziggy Marley  Good Old Days   \n",
              "57646  Ziggy Marley  Hand To Mouth   \n",
              "57647          Zwan   Come With Me   \n",
              "57648          Zwan         Desire   \n",
              "57649          Zwan      Heartsong   \n",
              "\n",
              "                                              link  \\\n",
              "57645  /z/ziggy+marley/good+old+days_10198588.html   \n",
              "57646  /z/ziggy+marley/hand+to+mouth_20531167.html   \n",
              "57647           /z/zwan/come+with+me_20148981.html   \n",
              "57648                 /z/zwan/desire_20148986.html   \n",
              "57649              /z/zwan/heartsong_20148991.html   \n",
              "\n",
              "                                                    text  \n",
              "57645  Irie days come on play  \\r\\nLet the angels fly...  \n",
              "57646  Power to the workers  \\r\\nMore power  \\r\\nPowe...  \n",
              "57647  all you need  \\r\\nis something i'll believe  \\...  \n",
              "57648  northern star  \\r\\nam i frightened  \\r\\nwhere ...  \n",
              "57649  come in  \\r\\nmake yourself at home  \\r\\ni'm a ...  "
            ]
          },
          "execution_count": 47,
          "metadata": {},
          "output_type": "execute_result"
        }
      ],
      "source": [
        "df.tail(5)"
      ]
    },
    {
      "cell_type": "code",
      "execution_count": 48,
      "metadata": {
        "id": "z0euW5GVzn5g"
      },
      "outputs": [
        {
          "data": {
            "text/plain": [
              "(57650, 4)"
            ]
          },
          "execution_count": 48,
          "metadata": {},
          "output_type": "execute_result"
        }
      ],
      "source": [
        "df.shape"
      ]
    },
    {
      "cell_type": "code",
      "execution_count": 49,
      "metadata": {
        "id": "50aNddTnzswh"
      },
      "outputs": [
        {
          "data": {
            "text/plain": [
              "artist    0\n",
              "song      0\n",
              "link      0\n",
              "text      0\n",
              "dtype: int64"
            ]
          },
          "execution_count": 49,
          "metadata": {},
          "output_type": "execute_result"
        }
      ],
      "source": [
        "df.isnull().sum()"
      ]
    },
    {
      "cell_type": "code",
      "execution_count": 50,
      "metadata": {
        "id": "xhxJOVP2zzar"
      },
      "outputs": [],
      "source": [
        "df =df.drop('link', axis=1).reset_index(drop=True)"
      ]
    },
    {
      "cell_type": "code",
      "execution_count": 51,
      "metadata": {
        "id": "N_iY0agy0RAm"
      },
      "outputs": [
        {
          "data": {
            "text/html": [
              "<div>\n",
              "<style scoped>\n",
              "    .dataframe tbody tr th:only-of-type {\n",
              "        vertical-align: middle;\n",
              "    }\n",
              "\n",
              "    .dataframe tbody tr th {\n",
              "        vertical-align: top;\n",
              "    }\n",
              "\n",
              "    .dataframe thead th {\n",
              "        text-align: right;\n",
              "    }\n",
              "</style>\n",
              "<table border=\"1\" class=\"dataframe\">\n",
              "  <thead>\n",
              "    <tr style=\"text-align: right;\">\n",
              "      <th></th>\n",
              "      <th>artist</th>\n",
              "      <th>song</th>\n",
              "      <th>text</th>\n",
              "    </tr>\n",
              "  </thead>\n",
              "  <tbody>\n",
              "    <tr>\n",
              "      <th>0</th>\n",
              "      <td>ABBA</td>\n",
              "      <td>Ahe's My Kind Of Girl</td>\n",
              "      <td>Look at her face, it's a wonderful face  \\r\\nA...</td>\n",
              "    </tr>\n",
              "    <tr>\n",
              "      <th>1</th>\n",
              "      <td>ABBA</td>\n",
              "      <td>Andante, Andante</td>\n",
              "      <td>Take it easy with me, please  \\r\\nTouch me gen...</td>\n",
              "    </tr>\n",
              "    <tr>\n",
              "      <th>2</th>\n",
              "      <td>ABBA</td>\n",
              "      <td>As Good As New</td>\n",
              "      <td>I'll never know why I had to go  \\r\\nWhy I had...</td>\n",
              "    </tr>\n",
              "    <tr>\n",
              "      <th>3</th>\n",
              "      <td>ABBA</td>\n",
              "      <td>Bang</td>\n",
              "      <td>Making somebody happy is a question of give an...</td>\n",
              "    </tr>\n",
              "    <tr>\n",
              "      <th>4</th>\n",
              "      <td>ABBA</td>\n",
              "      <td>Bang-A-Boomerang</td>\n",
              "      <td>Making somebody happy is a question of give an...</td>\n",
              "    </tr>\n",
              "    <tr>\n",
              "      <th>5</th>\n",
              "      <td>ABBA</td>\n",
              "      <td>Burning My Bridges</td>\n",
              "      <td>Well, you hoot and you holler and you make me ...</td>\n",
              "    </tr>\n",
              "    <tr>\n",
              "      <th>6</th>\n",
              "      <td>ABBA</td>\n",
              "      <td>Cassandra</td>\n",
              "      <td>Down in the street they're all singing and sho...</td>\n",
              "    </tr>\n",
              "    <tr>\n",
              "      <th>7</th>\n",
              "      <td>ABBA</td>\n",
              "      <td>Chiquitita</td>\n",
              "      <td>Chiquitita, tell me what's wrong  \\r\\nYou're e...</td>\n",
              "    </tr>\n",
              "    <tr>\n",
              "      <th>8</th>\n",
              "      <td>ABBA</td>\n",
              "      <td>Crazy World</td>\n",
              "      <td>I was out with the morning sun  \\r\\nCouldn't s...</td>\n",
              "    </tr>\n",
              "    <tr>\n",
              "      <th>9</th>\n",
              "      <td>ABBA</td>\n",
              "      <td>Crying Over You</td>\n",
              "      <td>I'm waitin' for you baby  \\r\\nI'm sitting all ...</td>\n",
              "    </tr>\n",
              "  </tbody>\n",
              "</table>\n",
              "</div>"
            ],
            "text/plain": [
              "  artist                   song  \\\n",
              "0   ABBA  Ahe's My Kind Of Girl   \n",
              "1   ABBA       Andante, Andante   \n",
              "2   ABBA         As Good As New   \n",
              "3   ABBA                   Bang   \n",
              "4   ABBA       Bang-A-Boomerang   \n",
              "5   ABBA     Burning My Bridges   \n",
              "6   ABBA              Cassandra   \n",
              "7   ABBA             Chiquitita   \n",
              "8   ABBA            Crazy World   \n",
              "9   ABBA        Crying Over You   \n",
              "\n",
              "                                                text  \n",
              "0  Look at her face, it's a wonderful face  \\r\\nA...  \n",
              "1  Take it easy with me, please  \\r\\nTouch me gen...  \n",
              "2  I'll never know why I had to go  \\r\\nWhy I had...  \n",
              "3  Making somebody happy is a question of give an...  \n",
              "4  Making somebody happy is a question of give an...  \n",
              "5  Well, you hoot and you holler and you make me ...  \n",
              "6  Down in the street they're all singing and sho...  \n",
              "7  Chiquitita, tell me what's wrong  \\r\\nYou're e...  \n",
              "8  I was out with the morning sun  \\r\\nCouldn't s...  \n",
              "9  I'm waitin' for you baby  \\r\\nI'm sitting all ...  "
            ]
          },
          "execution_count": 51,
          "metadata": {},
          "output_type": "execute_result"
        }
      ],
      "source": [
        "df.head(10)"
      ]
    },
    {
      "cell_type": "code",
      "execution_count": 52,
      "metadata": {
        "id": "Awv9A-dS0VTp"
      },
      "outputs": [
        {
          "data": {
            "text/plain": [
              "\"Look at her face, it's a wonderful face  \\r\\nAnd it means something special to me  \\r\\nLook at the way that she smiles when she sees me  \\r\\nHow lucky can one fellow be?  \\r\\n  \\r\\nShe's just my kind of girl, she makes me feel fine  \\r\\nWho could ever believe that she could be mine?  \\r\\nShe's just my kind of girl, without her I'm blue  \\r\\nAnd if she ever leaves me what could I do, what could I do?  \\r\\n  \\r\\nAnd when we go for a walk in the park  \\r\\nAnd she holds me and squeezes my hand  \\r\\nWe'll go on walking for hours and talking  \\r\\nAbout all the things that we plan  \\r\\n  \\r\\nShe's just my kind of girl, she makes me feel fine  \\r\\nWho could ever believe that she could be mine?  \\r\\nShe's just my kind of girl, without her I'm blue  \\r\\nAnd if she ever leaves me what could I do, what could I do?\\r\\n\\r\\n\""
            ]
          },
          "execution_count": 52,
          "metadata": {},
          "output_type": "execute_result"
        }
      ],
      "source": [
        "df['text'][0]"
      ]
    },
    {
      "cell_type": "code",
      "execution_count": 53,
      "metadata": {},
      "outputs": [],
      "source": [
        "df = df.sample(5000)"
      ]
    },
    {
      "cell_type": "code",
      "execution_count": 54,
      "metadata": {
        "id": "nUF2HSAS0ogg"
      },
      "outputs": [
        {
          "data": {
            "text/plain": [
              "(5000, 3)"
            ]
          },
          "execution_count": 54,
          "metadata": {},
          "output_type": "execute_result"
        }
      ],
      "source": [
        "df.shape"
      ]
    },
    {
      "cell_type": "code",
      "execution_count": 55,
      "metadata": {
        "id": "Z7_ts7JG0pwF"
      },
      "outputs": [],
      "source": [
        "df['text'] = df['text'].str.lower().replace(r'^\\w\\s', ' ').replace(r'\\n', ' ', regex = True)"
      ]
    },
    {
      "cell_type": "code",
      "execution_count": 114,
      "metadata": {},
      "outputs": [
        {
          "data": {
            "text/html": [
              "<div>\n",
              "<style scoped>\n",
              "    .dataframe tbody tr th:only-of-type {\n",
              "        vertical-align: middle;\n",
              "    }\n",
              "\n",
              "    .dataframe tbody tr th {\n",
              "        vertical-align: top;\n",
              "    }\n",
              "\n",
              "    .dataframe thead th {\n",
              "        text-align: right;\n",
              "    }\n",
              "</style>\n",
              "<table border=\"1\" class=\"dataframe\">\n",
              "  <thead>\n",
              "    <tr style=\"text-align: right;\">\n",
              "      <th></th>\n",
              "      <th>artist</th>\n",
              "      <th>song</th>\n",
              "      <th>text</th>\n",
              "    </tr>\n",
              "  </thead>\n",
              "  <tbody>\n",
              "    <tr>\n",
              "      <th>11575</th>\n",
              "      <td>Linda Ronstadt</td>\n",
              "      <td>Alison</td>\n",
              "      <td>well it's so funny to be seeing you after so l...</td>\n",
              "    </tr>\n",
              "    <tr>\n",
              "      <th>26875</th>\n",
              "      <td>Carpenters</td>\n",
              "      <td>Close To You</td>\n",
              "      <td>why do birds suddenly appear  \\r every time yo...</td>\n",
              "    </tr>\n",
              "    <tr>\n",
              "      <th>21284</th>\n",
              "      <td>Westlife</td>\n",
              "      <td>Don't Let Me Go</td>\n",
              "      <td>so much to say  \\r but where do i start  \\r wo...</td>\n",
              "    </tr>\n",
              "    <tr>\n",
              "      <th>6186</th>\n",
              "      <td>Fleetwood Mac</td>\n",
              "      <td>Nights In Estoril</td>\n",
              "      <td>well there will be times  \\r when the memories...</td>\n",
              "    </tr>\n",
              "    <tr>\n",
              "      <th>3674</th>\n",
              "      <td>Dave Matthews Band</td>\n",
              "      <td>Lying In The Hands of God</td>\n",
              "      <td>maybe i'll be your solider  \\r gladly i'll do ...</td>\n",
              "    </tr>\n",
              "    <tr>\n",
              "      <th>24953</th>\n",
              "      <td>Bee Gees</td>\n",
              "      <td>All Of My Life</td>\n",
              "      <td>there are times that i should go away  \\r to t...</td>\n",
              "    </tr>\n",
              "    <tr>\n",
              "      <th>15428</th>\n",
              "      <td>Ozzy Osbourne</td>\n",
              "      <td>Time After Time</td>\n",
              "      <td>time after time  \\r i guess that love is blind...</td>\n",
              "    </tr>\n",
              "    <tr>\n",
              "      <th>21151</th>\n",
              "      <td>Waylon Jennings</td>\n",
              "      <td>Don't Waste Your Time</td>\n",
              "      <td>(don't look for me i must go don't waste your ...</td>\n",
              "    </tr>\n",
              "    <tr>\n",
              "      <th>21076</th>\n",
              "      <td>Warren Zevon</td>\n",
              "      <td>Trouble Waiting To Happen</td>\n",
              "      <td>i woke up this morning, and i fell out of bed ...</td>\n",
              "    </tr>\n",
              "    <tr>\n",
              "      <th>34669</th>\n",
              "      <td>Green Day</td>\n",
              "      <td>Carpe Diem</td>\n",
              "      <td>breaking in a sweat  \\r like a bomb threat  \\r...</td>\n",
              "    </tr>\n",
              "  </tbody>\n",
              "</table>\n",
              "</div>"
            ],
            "text/plain": [
              "                   artist                       song  \\\n",
              "11575      Linda Ronstadt                     Alison   \n",
              "26875          Carpenters               Close To You   \n",
              "21284            Westlife            Don't Let Me Go   \n",
              "6186        Fleetwood Mac          Nights In Estoril   \n",
              "3674   Dave Matthews Band  Lying In The Hands of God   \n",
              "24953            Bee Gees             All Of My Life   \n",
              "15428       Ozzy Osbourne            Time After Time   \n",
              "21151     Waylon Jennings      Don't Waste Your Time   \n",
              "21076        Warren Zevon  Trouble Waiting To Happen   \n",
              "34669           Green Day                 Carpe Diem   \n",
              "\n",
              "                                                    text  \n",
              "11575  well it's so funny to be seeing you after so l...  \n",
              "26875  why do birds suddenly appear  \\r every time yo...  \n",
              "21284  so much to say  \\r but where do i start  \\r wo...  \n",
              "6186   well there will be times  \\r when the memories...  \n",
              "3674   maybe i'll be your solider  \\r gladly i'll do ...  \n",
              "24953  there are times that i should go away  \\r to t...  \n",
              "15428  time after time  \\r i guess that love is blind...  \n",
              "21151  (don't look for me i must go don't waste your ...  \n",
              "21076  i woke up this morning, and i fell out of bed ...  \n",
              "34669  breaking in a sweat  \\r like a bomb threat  \\r...  "
            ]
          },
          "execution_count": 114,
          "metadata": {},
          "output_type": "execute_result"
        }
      ],
      "source": [
        "df.head(10)"
      ]
    },
    {
      "cell_type": "code",
      "execution_count": 56,
      "metadata": {
        "id": "vTZEaXOi1Ip9"
      },
      "outputs": [
        {
          "data": {
            "text/html": [
              "<div>\n",
              "<style scoped>\n",
              "    .dataframe tbody tr th:only-of-type {\n",
              "        vertical-align: middle;\n",
              "    }\n",
              "\n",
              "    .dataframe tbody tr th {\n",
              "        vertical-align: top;\n",
              "    }\n",
              "\n",
              "    .dataframe thead th {\n",
              "        text-align: right;\n",
              "    }\n",
              "</style>\n",
              "<table border=\"1\" class=\"dataframe\">\n",
              "  <thead>\n",
              "    <tr style=\"text-align: right;\">\n",
              "      <th></th>\n",
              "      <th>artist</th>\n",
              "      <th>song</th>\n",
              "      <th>text</th>\n",
              "    </tr>\n",
              "  </thead>\n",
              "  <tbody>\n",
              "    <tr>\n",
              "      <th>45104</th>\n",
              "      <td>Nazareth</td>\n",
              "      <td>Ship Of Dreams</td>\n",
              "      <td>here we are  \\r we sail on a ship made of drea...</td>\n",
              "    </tr>\n",
              "    <tr>\n",
              "      <th>44395</th>\n",
              "      <td>The Monkees</td>\n",
              "      <td>Your Auntie Grizelda</td>\n",
              "      <td>she knows her mind all right, your auntie griz...</td>\n",
              "    </tr>\n",
              "    <tr>\n",
              "      <th>32701</th>\n",
              "      <td>Foo Fighters</td>\n",
              "      <td>Never Talking To You Again (Live)</td>\n",
              "      <td>there are things that i'd like to say  \\r but ...</td>\n",
              "    </tr>\n",
              "    <tr>\n",
              "      <th>34036</th>\n",
              "      <td>Glee</td>\n",
              "      <td>Dancing Queen</td>\n",
              "      <td>you can dance, you can jive  \\r having the tim...</td>\n",
              "    </tr>\n",
              "    <tr>\n",
              "      <th>55246</th>\n",
              "      <td>Virgin Steele</td>\n",
              "      <td>Hellfire Woman</td>\n",
              "      <td>she'll bleed you dry  \\r she'll leave you ther...</td>\n",
              "    </tr>\n",
              "  </tbody>\n",
              "</table>\n",
              "</div>"
            ],
            "text/plain": [
              "              artist                               song  \\\n",
              "45104       Nazareth                     Ship Of Dreams   \n",
              "44395    The Monkees               Your Auntie Grizelda   \n",
              "32701   Foo Fighters  Never Talking To You Again (Live)   \n",
              "34036           Glee                      Dancing Queen   \n",
              "55246  Virgin Steele                     Hellfire Woman   \n",
              "\n",
              "                                                    text  \n",
              "45104  here we are  \\r we sail on a ship made of drea...  \n",
              "44395  she knows her mind all right, your auntie griz...  \n",
              "32701  there are things that i'd like to say  \\r but ...  \n",
              "34036  you can dance, you can jive  \\r having the tim...  \n",
              "55246  she'll bleed you dry  \\r she'll leave you ther...  "
            ]
          },
          "execution_count": 56,
          "metadata": {},
          "output_type": "execute_result"
        }
      ],
      "source": [
        "df.tail(5)"
      ]
    },
    {
      "cell_type": "code",
      "execution_count": 57,
      "metadata": {
        "id": "vd3qu_rQ3FP4"
      },
      "outputs": [],
      "source": [
        "import nltk\n",
        "from nltk.stem.porter import PorterStemmer"
      ]
    },
    {
      "cell_type": "code",
      "execution_count": 58,
      "metadata": {
        "id": "UBgnCQAv3Opq"
      },
      "outputs": [],
      "source": [
        "stemmer = PorterStemmer()"
      ]
    },
    {
      "cell_type": "code",
      "execution_count": 59,
      "metadata": {
        "id": "jLM3X2bE3WDQ"
      },
      "outputs": [],
      "source": [
        "def token(txt):\n",
        "  token = nltk.word_tokenize(txt)\n",
        "  a = [stemmer.stem(w) for w in token]\n",
        "  return \" \".join(a)\n"
      ]
    },
    {
      "cell_type": "code",
      "execution_count": 68,
      "metadata": {},
      "outputs": [
        {
          "data": {
            "text/plain": [
              "'you are beauti , beauti'"
            ]
          },
          "execution_count": 68,
          "metadata": {},
          "output_type": "execute_result"
        }
      ],
      "source": [
        "token(\"you are beautiful, beauty\")"
      ]
    },
    {
      "cell_type": "code",
      "execution_count": 69,
      "metadata": {
        "id": "jCwuWzCL43B5"
      },
      "outputs": [
        {
          "data": {
            "text/plain": [
              "11575    well it 's so funni to be see you after so lon...\n",
              "26875    whi do bird suddenli appear everi time you are...\n",
              "21284    so much to say but where do i start would you ...\n",
              "6186     well there will be time when the memori fade t...\n",
              "3674     mayb i 'll be your solid gladli i 'll do your ...\n",
              "                               ...                        \n",
              "45104    here we are we sail on a ship made of dream an...\n",
              "44395    she know her mind all right , your aunti grize...\n",
              "32701    there are thing that i 'd like to say but i 'm...\n",
              "34036    you can danc , you can jive have the time of y...\n",
              "55246    she 'll bleed you dri she 'll leav you there t...\n",
              "Name: text, Length: 5000, dtype: object"
            ]
          },
          "execution_count": 69,
          "metadata": {},
          "output_type": "execute_result"
        }
      ],
      "source": [
        "df['text'].apply(lambda x: token(x))"
      ]
    },
    {
      "cell_type": "code",
      "execution_count": 73,
      "metadata": {
        "id": "U_H6hsHq4i_K"
      },
      "outputs": [],
      "source": [
        "from sklearn.feature_extraction.text import TfidfVectorizer\n",
        "from sklearn.metrics.pairwise import cosine_similarity"
      ]
    },
    {
      "cell_type": "code",
      "execution_count": 75,
      "metadata": {
        "id": "yOS_DE6L5GQB"
      },
      "outputs": [],
      "source": [
        "tfid = TfidfVectorizer(analyzer='word', stop_words='english')"
      ]
    },
    {
      "cell_type": "code",
      "execution_count": 76,
      "metadata": {
        "id": "HpZzv2OD52yf"
      },
      "outputs": [],
      "source": [
        "matrix=tfid.fit_transform(df['text'])"
      ]
    },
    {
      "cell_type": "code",
      "execution_count": 109,
      "metadata": {
        "id": "FTQyaKo3GndY"
      },
      "outputs": [],
      "source": [
        "similar=cosine_similarity(matrix)"
      ]
    },
    {
      "cell_type": "code",
      "execution_count": 110,
      "metadata": {
        "id": "u_nKoru6G-wU"
      },
      "outputs": [
        {
          "data": {
            "text/plain": [
              "array([1.        , 0.04639924, 0.06660296, ..., 0.08453387, 0.01392284,\n",
              "       0.00728366])"
            ]
          },
          "execution_count": 110,
          "metadata": {},
          "output_type": "execute_result"
        }
      ],
      "source": [
        "similar[0]"
      ]
    },
    {
      "cell_type": "code",
      "execution_count": 111,
      "metadata": {
        "id": "_9kDIrYNHE1n"
      },
      "outputs": [],
      "source": [
        "if not df[df['song'] == 'Hellfire Woman'].empty:\n",
        "    index = df[df['song'] == 'Hellfire Woman'].index[0]\n",
        "\n",
        "else:\n",
        "    print(\"No rows with the song name 'Hellfire Woman' found.\")\n"
      ]
    },
    {
      "cell_type": "code",
      "execution_count": 125,
      "metadata": {},
      "outputs": [],
      "source": [
        "distance = [similar]"
      ]
    },
    {
      "cell_type": "code",
      "execution_count": 123,
      "metadata": {
        "id": "mk60sbD-HNkw"
      },
      "outputs": [],
      "source": [
        "def recommender(song_name):\n",
        "  idx = df[df['song']==song_name].index[0]\n",
        "  sorted(list(enumerate(similar[idx])), reverse=True, key = lambda x:x[1])\n",
        "  song = []\n",
        "  for s_id in distance[1:5]:\n",
        "    song.append(df.iloc[s_id[0]].song)\n",
        "  return song"
      ]
    },
    {
      "cell_type": "code",
      "execution_count": 126,
      "metadata": {
        "id": "ILVN0ImnJZyo"
      },
      "outputs": [
        {
          "data": {
            "text/plain": [
              "[]"
            ]
          },
          "execution_count": 126,
          "metadata": {},
          "output_type": "execute_result"
        }
      ],
      "source": [
        "recommender(\"Lying In The Hands of God\")"
      ]
    },
    {
      "cell_type": "code",
      "execution_count": 127,
      "metadata": {
        "id": "LuaiB6rUKUDq"
      },
      "outputs": [],
      "source": [
        "import pickle"
      ]
    },
    {
      "cell_type": "code",
      "execution_count": 128,
      "metadata": {
        "id": "qNUcZncbKY-Z"
      },
      "outputs": [],
      "source": [
        "pickle.dump(similar, open(\"similarity\", \"wb\"))"
      ]
    },
    {
      "cell_type": "code",
      "execution_count": 129,
      "metadata": {
        "id": "-QVGkHleOYVk"
      },
      "outputs": [],
      "source": [
        "pickle.dump(df, open(\"df\", \"wb\"))"
      ]
    }
  ],
  "metadata": {
    "colab": {
      "provenance": []
    },
    "kernelspec": {
      "display_name": "Python 3",
      "name": "python3"
    },
    "language_info": {
      "codemirror_mode": {
        "name": "ipython",
        "version": 3
      },
      "file_extension": ".py",
      "mimetype": "text/x-python",
      "name": "python",
      "nbconvert_exporter": "python",
      "pygments_lexer": "ipython3",
      "version": "3.11.6"
    }
  },
  "nbformat": 4,
  "nbformat_minor": 0
}
