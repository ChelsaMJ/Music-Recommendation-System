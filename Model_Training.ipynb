{
  "cells": [
    {
      "cell_type": "code",
      "execution_count": 37,
      "metadata": {
        "id": "FCW60lByx_Bv"
      },
      "outputs": [],
      "source": [
        "import pandas as pd"
      ]
    },
    {
      "cell_type": "code",
      "execution_count": 38,
      "metadata": {
        "colab": {
          "base_uri": "https://localhost:8080/",
          "height": 374
        },
        "id": "qaLKGLZ4yMgI",
        "outputId": "ec860915-ad2b-437d-fa48-0e4bdf4baed6"
      },
      "outputs": [],
      "source": [
        "df = pd.read_csv(\"spotify_millsongdata.csv\")"
      ]
    },
    {
      "cell_type": "code",
      "execution_count": 39,
      "metadata": {
        "id": "aQ5G2DF8ySIn"
      },
      "outputs": [
        {
          "data": {
            "text/html": [
              "<div>\n",
              "<style scoped>\n",
              "    .dataframe tbody tr th:only-of-type {\n",
              "        vertical-align: middle;\n",
              "    }\n",
              "\n",
              "    .dataframe tbody tr th {\n",
              "        vertical-align: top;\n",
              "    }\n",
              "\n",
              "    .dataframe thead th {\n",
              "        text-align: right;\n",
              "    }\n",
              "</style>\n",
              "<table border=\"1\" class=\"dataframe\">\n",
              "  <thead>\n",
              "    <tr style=\"text-align: right;\">\n",
              "      <th></th>\n",
              "      <th>artist</th>\n",
              "      <th>song</th>\n",
              "      <th>link</th>\n",
              "      <th>text</th>\n",
              "    </tr>\n",
              "  </thead>\n",
              "  <tbody>\n",
              "    <tr>\n",
              "      <th>0</th>\n",
              "      <td>ABBA</td>\n",
              "      <td>Ahe's My Kind Of Girl</td>\n",
              "      <td>/a/abba/ahes+my+kind+of+girl_20598417.html</td>\n",
              "      <td>Look at her face, it's a wonderful face  \\r\\nA...</td>\n",
              "    </tr>\n",
              "    <tr>\n",
              "      <th>1</th>\n",
              "      <td>ABBA</td>\n",
              "      <td>Andante, Andante</td>\n",
              "      <td>/a/abba/andante+andante_20002708.html</td>\n",
              "      <td>Take it easy with me, please  \\r\\nTouch me gen...</td>\n",
              "    </tr>\n",
              "    <tr>\n",
              "      <th>2</th>\n",
              "      <td>ABBA</td>\n",
              "      <td>As Good As New</td>\n",
              "      <td>/a/abba/as+good+as+new_20003033.html</td>\n",
              "      <td>I'll never know why I had to go  \\r\\nWhy I had...</td>\n",
              "    </tr>\n",
              "    <tr>\n",
              "      <th>3</th>\n",
              "      <td>ABBA</td>\n",
              "      <td>Bang</td>\n",
              "      <td>/a/abba/bang_20598415.html</td>\n",
              "      <td>Making somebody happy is a question of give an...</td>\n",
              "    </tr>\n",
              "    <tr>\n",
              "      <th>4</th>\n",
              "      <td>ABBA</td>\n",
              "      <td>Bang-A-Boomerang</td>\n",
              "      <td>/a/abba/bang+a+boomerang_20002668.html</td>\n",
              "      <td>Making somebody happy is a question of give an...</td>\n",
              "    </tr>\n",
              "  </tbody>\n",
              "</table>\n",
              "</div>"
            ],
            "text/plain": [
              "  artist                   song                                        link  \\\n",
              "0   ABBA  Ahe's My Kind Of Girl  /a/abba/ahes+my+kind+of+girl_20598417.html   \n",
              "1   ABBA       Andante, Andante       /a/abba/andante+andante_20002708.html   \n",
              "2   ABBA         As Good As New        /a/abba/as+good+as+new_20003033.html   \n",
              "3   ABBA                   Bang                  /a/abba/bang_20598415.html   \n",
              "4   ABBA       Bang-A-Boomerang      /a/abba/bang+a+boomerang_20002668.html   \n",
              "\n",
              "                                                text  \n",
              "0  Look at her face, it's a wonderful face  \\r\\nA...  \n",
              "1  Take it easy with me, please  \\r\\nTouch me gen...  \n",
              "2  I'll never know why I had to go  \\r\\nWhy I had...  \n",
              "3  Making somebody happy is a question of give an...  \n",
              "4  Making somebody happy is a question of give an...  "
            ]
          },
          "execution_count": 39,
          "metadata": {},
          "output_type": "execute_result"
        }
      ],
      "source": [
        "df.head(5)"
      ]
    },
    {
      "cell_type": "code",
      "execution_count": 40,
      "metadata": {
        "id": "blv7berezeqz"
      },
      "outputs": [
        {
          "data": {
            "text/html": [
              "<div>\n",
              "<style scoped>\n",
              "    .dataframe tbody tr th:only-of-type {\n",
              "        vertical-align: middle;\n",
              "    }\n",
              "\n",
              "    .dataframe tbody tr th {\n",
              "        vertical-align: top;\n",
              "    }\n",
              "\n",
              "    .dataframe thead th {\n",
              "        text-align: right;\n",
              "    }\n",
              "</style>\n",
              "<table border=\"1\" class=\"dataframe\">\n",
              "  <thead>\n",
              "    <tr style=\"text-align: right;\">\n",
              "      <th></th>\n",
              "      <th>artist</th>\n",
              "      <th>song</th>\n",
              "      <th>link</th>\n",
              "      <th>text</th>\n",
              "    </tr>\n",
              "  </thead>\n",
              "  <tbody>\n",
              "    <tr>\n",
              "      <th>57645</th>\n",
              "      <td>Ziggy Marley</td>\n",
              "      <td>Good Old Days</td>\n",
              "      <td>/z/ziggy+marley/good+old+days_10198588.html</td>\n",
              "      <td>Irie days come on play  \\r\\nLet the angels fly...</td>\n",
              "    </tr>\n",
              "    <tr>\n",
              "      <th>57646</th>\n",
              "      <td>Ziggy Marley</td>\n",
              "      <td>Hand To Mouth</td>\n",
              "      <td>/z/ziggy+marley/hand+to+mouth_20531167.html</td>\n",
              "      <td>Power to the workers  \\r\\nMore power  \\r\\nPowe...</td>\n",
              "    </tr>\n",
              "    <tr>\n",
              "      <th>57647</th>\n",
              "      <td>Zwan</td>\n",
              "      <td>Come With Me</td>\n",
              "      <td>/z/zwan/come+with+me_20148981.html</td>\n",
              "      <td>all you need  \\r\\nis something i'll believe  \\...</td>\n",
              "    </tr>\n",
              "    <tr>\n",
              "      <th>57648</th>\n",
              "      <td>Zwan</td>\n",
              "      <td>Desire</td>\n",
              "      <td>/z/zwan/desire_20148986.html</td>\n",
              "      <td>northern star  \\r\\nam i frightened  \\r\\nwhere ...</td>\n",
              "    </tr>\n",
              "    <tr>\n",
              "      <th>57649</th>\n",
              "      <td>Zwan</td>\n",
              "      <td>Heartsong</td>\n",
              "      <td>/z/zwan/heartsong_20148991.html</td>\n",
              "      <td>come in  \\r\\nmake yourself at home  \\r\\ni'm a ...</td>\n",
              "    </tr>\n",
              "  </tbody>\n",
              "</table>\n",
              "</div>"
            ],
            "text/plain": [
              "             artist           song  \\\n",
              "57645  Ziggy Marley  Good Old Days   \n",
              "57646  Ziggy Marley  Hand To Mouth   \n",
              "57647          Zwan   Come With Me   \n",
              "57648          Zwan         Desire   \n",
              "57649          Zwan      Heartsong   \n",
              "\n",
              "                                              link  \\\n",
              "57645  /z/ziggy+marley/good+old+days_10198588.html   \n",
              "57646  /z/ziggy+marley/hand+to+mouth_20531167.html   \n",
              "57647           /z/zwan/come+with+me_20148981.html   \n",
              "57648                 /z/zwan/desire_20148986.html   \n",
              "57649              /z/zwan/heartsong_20148991.html   \n",
              "\n",
              "                                                    text  \n",
              "57645  Irie days come on play  \\r\\nLet the angels fly...  \n",
              "57646  Power to the workers  \\r\\nMore power  \\r\\nPowe...  \n",
              "57647  all you need  \\r\\nis something i'll believe  \\...  \n",
              "57648  northern star  \\r\\nam i frightened  \\r\\nwhere ...  \n",
              "57649  come in  \\r\\nmake yourself at home  \\r\\ni'm a ...  "
            ]
          },
          "execution_count": 40,
          "metadata": {},
          "output_type": "execute_result"
        }
      ],
      "source": [
        "df.tail(5)"
      ]
    },
    {
      "cell_type": "code",
      "execution_count": 41,
      "metadata": {
        "id": "z0euW5GVzn5g"
      },
      "outputs": [
        {
          "data": {
            "text/plain": [
              "(57650, 4)"
            ]
          },
          "execution_count": 41,
          "metadata": {},
          "output_type": "execute_result"
        }
      ],
      "source": [
        "df.shape"
      ]
    },
    {
      "cell_type": "code",
      "execution_count": 42,
      "metadata": {
        "id": "50aNddTnzswh"
      },
      "outputs": [
        {
          "data": {
            "text/plain": [
              "artist    0\n",
              "song      0\n",
              "link      0\n",
              "text      0\n",
              "dtype: int64"
            ]
          },
          "execution_count": 42,
          "metadata": {},
          "output_type": "execute_result"
        }
      ],
      "source": [
        "df.isnull().sum()"
      ]
    },
    {
      "cell_type": "code",
      "execution_count": 43,
      "metadata": {
        "id": "xhxJOVP2zzar"
      },
      "outputs": [],
      "source": [
        "df =df.sample(5000).drop('link', axis=1).reset_index(drop=True)"
      ]
    },
    {
      "cell_type": "code",
      "execution_count": 44,
      "metadata": {
        "id": "N_iY0agy0RAm"
      },
      "outputs": [
        {
          "data": {
            "text/html": [
              "<div>\n",
              "<style scoped>\n",
              "    .dataframe tbody tr th:only-of-type {\n",
              "        vertical-align: middle;\n",
              "    }\n",
              "\n",
              "    .dataframe tbody tr th {\n",
              "        vertical-align: top;\n",
              "    }\n",
              "\n",
              "    .dataframe thead th {\n",
              "        text-align: right;\n",
              "    }\n",
              "</style>\n",
              "<table border=\"1\" class=\"dataframe\">\n",
              "  <thead>\n",
              "    <tr style=\"text-align: right;\">\n",
              "      <th></th>\n",
              "      <th>artist</th>\n",
              "      <th>song</th>\n",
              "      <th>text</th>\n",
              "    </tr>\n",
              "  </thead>\n",
              "  <tbody>\n",
              "    <tr>\n",
              "      <th>0</th>\n",
              "      <td>Paul Simon</td>\n",
              "      <td>Bright Eyes</td>\n",
              "      <td>Is it a kind of dream,  \\r\\nFloating out on th...</td>\n",
              "    </tr>\n",
              "    <tr>\n",
              "      <th>1</th>\n",
              "      <td>Electric Light Orchestra</td>\n",
              "      <td>Shine A Little Love</td>\n",
              "      <td>Although the things you've done I wouldn't cri...</td>\n",
              "    </tr>\n",
              "    <tr>\n",
              "      <th>2</th>\n",
              "      <td>Rage Against The Machine</td>\n",
              "      <td>Producer</td>\n",
              "      <td>Earth shares what Earth receives  \\r\\nAnd now ...</td>\n",
              "    </tr>\n",
              "    <tr>\n",
              "      <th>3</th>\n",
              "      <td>Matt Redman</td>\n",
              "      <td>Make My Life A Prayer To You</td>\n",
              "      <td>Make my life a prayer to You  \\r\\nI want to do...</td>\n",
              "    </tr>\n",
              "    <tr>\n",
              "      <th>4</th>\n",
              "      <td>Maroon 5</td>\n",
              "      <td>We'll Be Alright</td>\n",
              "      <td>We are young, we run free  \\r\\nStay up late, w...</td>\n",
              "    </tr>\n",
              "    <tr>\n",
              "      <th>5</th>\n",
              "      <td>Savage Garden</td>\n",
              "      <td>Carry On Dancing</td>\n",
              "      <td>The moonlight  \\r\\nShines down interstellar be...</td>\n",
              "    </tr>\n",
              "    <tr>\n",
              "      <th>6</th>\n",
              "      <td>Lionel Richie</td>\n",
              "      <td>Don't Wanna Lose You</td>\n",
              "      <td>Times are hard, my spirit's weak,  \\r\\nEv'ryth...</td>\n",
              "    </tr>\n",
              "    <tr>\n",
              "      <th>7</th>\n",
              "      <td>Counting Crows</td>\n",
              "      <td>Rain King</td>\n",
              "      <td>When I think of heaven (Deliver me in a black-...</td>\n",
              "    </tr>\n",
              "    <tr>\n",
              "      <th>8</th>\n",
              "      <td>Ray Charles</td>\n",
              "      <td>I'm Going Down The River</td>\n",
              "      <td>I'm goin down to the river and drown myself, w...</td>\n",
              "    </tr>\n",
              "    <tr>\n",
              "      <th>9</th>\n",
              "      <td>Ace Of Base</td>\n",
              "      <td>Perfect World</td>\n",
              "      <td>They say the time has come for us  \\r\\nTo star...</td>\n",
              "    </tr>\n",
              "  </tbody>\n",
              "</table>\n",
              "</div>"
            ],
            "text/plain": [
              "                     artist                          song  \\\n",
              "0                Paul Simon                   Bright Eyes   \n",
              "1  Electric Light Orchestra           Shine A Little Love   \n",
              "2  Rage Against The Machine                      Producer   \n",
              "3               Matt Redman  Make My Life A Prayer To You   \n",
              "4                  Maroon 5              We'll Be Alright   \n",
              "5             Savage Garden              Carry On Dancing   \n",
              "6             Lionel Richie          Don't Wanna Lose You   \n",
              "7            Counting Crows                     Rain King   \n",
              "8               Ray Charles      I'm Going Down The River   \n",
              "9               Ace Of Base                 Perfect World   \n",
              "\n",
              "                                                text  \n",
              "0  Is it a kind of dream,  \\r\\nFloating out on th...  \n",
              "1  Although the things you've done I wouldn't cri...  \n",
              "2  Earth shares what Earth receives  \\r\\nAnd now ...  \n",
              "3  Make my life a prayer to You  \\r\\nI want to do...  \n",
              "4  We are young, we run free  \\r\\nStay up late, w...  \n",
              "5  The moonlight  \\r\\nShines down interstellar be...  \n",
              "6  Times are hard, my spirit's weak,  \\r\\nEv'ryth...  \n",
              "7  When I think of heaven (Deliver me in a black-...  \n",
              "8  I'm goin down to the river and drown myself, w...  \n",
              "9  They say the time has come for us  \\r\\nTo star...  "
            ]
          },
          "execution_count": 44,
          "metadata": {},
          "output_type": "execute_result"
        }
      ],
      "source": [
        "df.head(10)"
      ]
    },
    {
      "cell_type": "code",
      "execution_count": 45,
      "metadata": {
        "id": "Awv9A-dS0VTp"
      },
      "outputs": [
        {
          "data": {
            "text/plain": [
              "\"Cheater, I know where you've been  \\r\\nCheater, your lies can't hide your sin  \\r\\nCheater, don't ask me how I've know  \\r\\nCheater, I guess it's time for you to go  \\r\\n  \\r\\nI'm tired of chasing shadows  \\r\\nSo illusive in the night  \\r\\nAnd your empty words  \\r\\nThat leave me high and dry  \\r\\nNow the curtain's finally fallen  \\r\\nOn this fantasy affair  \\r\\nYou've had me for the last time  \\r\\nWith your lies  \\r\\n  \\r\\nCheater, you're a cheater  \\r\\nI know where you've been  \\r\\nCheater, your lies can't hide your sin  \\r\\nCheater, don't ask me how I've know  \\r\\nCheater, I guess it's time for you to go  \\r\\n  \\r\\nThe voices in the wind I heard  \\r\\nKept telling me to run  \\r\\nWhispering a warning to my heart  \\r\\nAnd the voices deep as thunder  \\r\\nTried to speak of things to come  \\r\\nI was blinded then  \\r\\nBut now I see the light  \\r\\n  \\r\\nCheater, you're a cheater  \\r\\nAnd I know where you've been  \\r\\nCheater, mean mistreater  \\r\\nYour lies can't hide your sin  \\r\\nCheater, don't ask me how I've know  \\r\\nCheater, I guess it's time for you to go  \\r\\n  \\r\\nCheater, I know where you've been  \\r\\nCheater, you're a cheater  \\r\\nCheater, you're a cheater  \\r\\nCheater, I know where you've been  \\r\\nYour lies can't hide your sins  \\r\\nCheater\\r\\n\\r\\n\""
            ]
          },
          "execution_count": 45,
          "metadata": {},
          "output_type": "execute_result"
        }
      ],
      "source": [
        "df['text'][10]"
      ]
    },
    {
      "cell_type": "code",
      "execution_count": 46,
      "metadata": {
        "id": "nUF2HSAS0ogg"
      },
      "outputs": [
        {
          "data": {
            "text/plain": [
              "(5000, 3)"
            ]
          },
          "execution_count": 46,
          "metadata": {},
          "output_type": "execute_result"
        }
      ],
      "source": [
        "df.shape"
      ]
    },
    {
      "cell_type": "code",
      "execution_count": 47,
      "metadata": {
        "id": "Z7_ts7JG0pwF"
      },
      "outputs": [
        {
          "data": {
            "text/plain": [
              "0       is it a kind of dream,  \\r floating out on the...\n",
              "1       although the things you've done i wouldn't cri...\n",
              "2       earth shares what earth receives  \\r and now o...\n",
              "3       make my life a prayer to you  \\r i want to do ...\n",
              "4       we are young, we run free  \\r stay up late, we...\n",
              "                              ...                        \n",
              "4995    if it came to pass that they should ask  \\r wh...\n",
              "4996    one and the same, one and the same  \\r i wish ...\n",
              "4997    this is the thirteenth day of waiting, the sec...\n",
              "4998    mama, take this badge off of me  \\r i can't us...\n",
              "4999    you've read the books, you've watched the show...\n",
              "Name: text, Length: 5000, dtype: object"
            ]
          },
          "execution_count": 47,
          "metadata": {},
          "output_type": "execute_result"
        }
      ],
      "source": [
        "df['text'].str.lower().replace(r'^\\w\\s', ' ').replace(r'\\n', ' ', regex = True)"
      ]
    },
    {
      "cell_type": "code",
      "execution_count": 48,
      "metadata": {
        "id": "vTZEaXOi1Ip9"
      },
      "outputs": [
        {
          "data": {
            "text/html": [
              "<div>\n",
              "<style scoped>\n",
              "    .dataframe tbody tr th:only-of-type {\n",
              "        vertical-align: middle;\n",
              "    }\n",
              "\n",
              "    .dataframe tbody tr th {\n",
              "        vertical-align: top;\n",
              "    }\n",
              "\n",
              "    .dataframe thead th {\n",
              "        text-align: right;\n",
              "    }\n",
              "</style>\n",
              "<table border=\"1\" class=\"dataframe\">\n",
              "  <thead>\n",
              "    <tr style=\"text-align: right;\">\n",
              "      <th></th>\n",
              "      <th>artist</th>\n",
              "      <th>song</th>\n",
              "      <th>text</th>\n",
              "    </tr>\n",
              "  </thead>\n",
              "  <tbody>\n",
              "    <tr>\n",
              "      <th>4995</th>\n",
              "      <td>Elton John</td>\n",
              "      <td>All The Nasties</td>\n",
              "      <td>If it came to pass that they should ask  \\r\\nW...</td>\n",
              "    </tr>\n",
              "    <tr>\n",
              "      <th>4996</th>\n",
              "      <td>Everlast</td>\n",
              "      <td>One And The Same</td>\n",
              "      <td>One and the same, one and the same  \\r\\nI wish...</td>\n",
              "    </tr>\n",
              "    <tr>\n",
              "      <th>4997</th>\n",
              "      <td>Foreigner</td>\n",
              "      <td>Lowdown And Dirty</td>\n",
              "      <td>This is the thirteenth day of waiting, the sec...</td>\n",
              "    </tr>\n",
              "    <tr>\n",
              "      <th>4998</th>\n",
              "      <td>Religious Music</td>\n",
              "      <td>Knockin' On Heaven's Door</td>\n",
              "      <td>Mama, take this badge off of me  \\r\\nI can't u...</td>\n",
              "    </tr>\n",
              "    <tr>\n",
              "      <th>4999</th>\n",
              "      <td>The Script</td>\n",
              "      <td>Six Degrees Of Separation</td>\n",
              "      <td>You've read the books, you've watched the show...</td>\n",
              "    </tr>\n",
              "  </tbody>\n",
              "</table>\n",
              "</div>"
            ],
            "text/plain": [
              "               artist                       song  \\\n",
              "4995       Elton John            All The Nasties   \n",
              "4996         Everlast           One And The Same   \n",
              "4997        Foreigner          Lowdown And Dirty   \n",
              "4998  Religious Music  Knockin' On Heaven's Door   \n",
              "4999       The Script  Six Degrees Of Separation   \n",
              "\n",
              "                                                   text  \n",
              "4995  If it came to pass that they should ask  \\r\\nW...  \n",
              "4996  One and the same, one and the same  \\r\\nI wish...  \n",
              "4997  This is the thirteenth day of waiting, the sec...  \n",
              "4998  Mama, take this badge off of me  \\r\\nI can't u...  \n",
              "4999  You've read the books, you've watched the show...  "
            ]
          },
          "execution_count": 48,
          "metadata": {},
          "output_type": "execute_result"
        }
      ],
      "source": [
        "df.tail(5)"
      ]
    },
    {
      "cell_type": "code",
      "execution_count": 49,
      "metadata": {},
      "outputs": [],
      "source": [
        "df['text'] = df['text'].str.lower().replace(r'^\\w\\s', ' ').replace(r'\\n', ' ', regex = True)"
      ]
    },
    {
      "cell_type": "code",
      "execution_count": 50,
      "metadata": {},
      "outputs": [],
      "source": [
        "import nltk\n",
        "#setting nltk data directory to corrct path:\n",
        "nltk.data.path.append(\"D:\\nltk_data\")"
      ]
    },
    {
      "cell_type": "code",
      "execution_count": 51,
      "metadata": {
        "id": "vd3qu_rQ3FP4"
      },
      "outputs": [],
      "source": [
        "import nltk\n",
        "from nltk.stem.porter import PorterStemmer"
      ]
    },
    {
      "cell_type": "code",
      "execution_count": 52,
      "metadata": {
        "id": "UBgnCQAv3Opq"
      },
      "outputs": [],
      "source": [
        "stemmer = PorterStemmer()"
      ]
    },
    {
      "cell_type": "code",
      "execution_count": 53,
      "metadata": {
        "id": "jLM3X2bE3WDQ"
      },
      "outputs": [],
      "source": [
        "def tokenization(txt):\n",
        "  tokens = nltk.word_tokenize(txt)\n",
        "  stemming = [stemmer.stem(w) for w in tokens]\n",
        "  return \" \".join(stemming)\n"
      ]
    },
    {
      "cell_type": "code",
      "execution_count": 54,
      "metadata": {},
      "outputs": [
        {
          "name": "stderr",
          "output_type": "stream",
          "text": [
            "[nltk_data] Downloading package punkt to\n",
            "[nltk_data]     C:\\Users\\Chelsa\\AppData\\Roaming\\nltk_data...\n",
            "[nltk_data]   Package punkt is already up-to-date!\n"
          ]
        },
        {
          "data": {
            "text/plain": [
              "True"
            ]
          },
          "execution_count": 54,
          "metadata": {},
          "output_type": "execute_result"
        }
      ],
      "source": [
        "import nltk\n",
        "nltk.download('punkt')"
      ]
    },
    {
      "cell_type": "code",
      "execution_count": 55,
      "metadata": {
        "id": "jCwuWzCL43B5"
      },
      "outputs": [],
      "source": [
        "df['text'] = df['text'].apply(lambda x: tokenization(x))"
      ]
    },
    {
      "cell_type": "code",
      "execution_count": 56,
      "metadata": {
        "id": "U_H6hsHq4i_K"
      },
      "outputs": [],
      "source": [
        "from sklearn.feature_extraction.text import TfidfVectorizer\n",
        "from sklearn.metrics.pairwise import cosine_similarity"
      ]
    },
    {
      "cell_type": "code",
      "execution_count": 57,
      "metadata": {
        "id": "yOS_DE6L5GQB"
      },
      "outputs": [],
      "source": [
        "tfidvector = TfidfVectorizer(analyzer='word', stop_words='english')\n",
        "matrix = tfidvector.fit_transform(df['text'])\n",
        "similarity = cosine_similarity(matrix)"
      ]
    },
    {
      "cell_type": "code",
      "execution_count": 58,
      "metadata": {},
      "outputs": [
        {
          "data": {
            "text/plain": [
              "array([1.        , 0.02383243, 0.00110107, ..., 0.01022768, 0.0053874 ,\n",
              "       0.01958642])"
            ]
          },
          "execution_count": 58,
          "metadata": {},
          "output_type": "execute_result"
        }
      ],
      "source": [
        "similarity[0]"
      ]
    },
    {
      "cell_type": "code",
      "execution_count": 62,
      "metadata": {
        "id": "_9kDIrYNHE1n"
      },
      "outputs": [
        {
          "data": {
            "text/html": [
              "<div>\n",
              "<style scoped>\n",
              "    .dataframe tbody tr th:only-of-type {\n",
              "        vertical-align: middle;\n",
              "    }\n",
              "\n",
              "    .dataframe tbody tr th {\n",
              "        vertical-align: top;\n",
              "    }\n",
              "\n",
              "    .dataframe thead th {\n",
              "        text-align: right;\n",
              "    }\n",
              "</style>\n",
              "<table border=\"1\" class=\"dataframe\">\n",
              "  <thead>\n",
              "    <tr style=\"text-align: right;\">\n",
              "      <th></th>\n",
              "      <th>artist</th>\n",
              "      <th>song</th>\n",
              "      <th>text</th>\n",
              "    </tr>\n",
              "  </thead>\n",
              "  <tbody>\n",
              "    <tr>\n",
              "      <th>7</th>\n",
              "      <td>Counting Crows</td>\n",
              "      <td>Rain King</td>\n",
              "      <td>when i think of heaven ( deliv me in a black-w...</td>\n",
              "    </tr>\n",
              "  </tbody>\n",
              "</table>\n",
              "</div>"
            ],
            "text/plain": [
              "           artist       song  \\\n",
              "7  Counting Crows  Rain King   \n",
              "\n",
              "                                                text  \n",
              "7  when i think of heaven ( deliv me in a black-w...  "
            ]
          },
          "execution_count": 62,
          "metadata": {},
          "output_type": "execute_result"
        }
      ],
      "source": [
        "df[df['song'] == 'Rain King']"
      ]
    },
    {
      "cell_type": "code",
      "execution_count": 63,
      "metadata": {
        "id": "mk60sbD-HNkw"
      },
      "outputs": [],
      "source": [
        "def recommendation(song_df):\n",
        "  idx = df[df['song']==song_df].index[0]\n",
        "  distances = sorted(list(enumerate(similarity[idx])), reverse=True, key = lambda x:x[1])\n",
        "  songs = []\n",
        "  for m_id in distances[1:30]:\n",
        "    songs.append(df.iloc[m_id[0]].song)\n",
        "  return songs"
      ]
    },
    {
      "cell_type": "code",
      "execution_count": 64,
      "metadata": {
        "id": "ILVN0ImnJZyo"
      },
      "outputs": [
        {
          "data": {
            "text/plain": [
              "['You Belong To Me',\n",
              " 'Get Back',\n",
              " 'Queen In The Black',\n",
              " 'Because The Night',\n",
              " 'Belong To The World',\n",
              " 'Mama',\n",
              " 'Starbright',\n",
              " 'Little Bird',\n",
              " 'If You Need Me',\n",
              " 'End Of The Dream',\n",
              " 'Fly',\n",
              " 'Because The Night',\n",
              " 'Come Home To Me',\n",
              " 'I Belong To You',\n",
              " 'If You Need Me',\n",
              " 'The Gift',\n",
              " \"Love Won't Leave You Now\",\n",
              " 'And Your Bird Can Sing',\n",
              " 'Mama',\n",
              " 'If You Belonged To Me',\n",
              " 'Black Summer Rain',\n",
              " 'Work It Out',\n",
              " 'King Of The Kats',\n",
              " 'JTR (John The Revalator)',\n",
              " 'From A Jack To A King',\n",
              " 'Ever Living God',\n",
              " 'Fly Away',\n",
              " 'Deliverance',\n",
              " \"We're Not Deep\"]"
            ]
          },
          "execution_count": 64,
          "metadata": {},
          "output_type": "execute_result"
        }
      ],
      "source": [
        "recommendation(\"Rain King\")"
      ]
    },
    {
      "cell_type": "code",
      "execution_count": 65,
      "metadata": {
        "id": "LuaiB6rUKUDq"
      },
      "outputs": [],
      "source": [
        "import pickle\n",
        "pickle.dump(similarity, open(\"similarity.pkl\", \"wb\"))\n",
        "pickle.dump(df, open(\"df.pkl\", \"wb\"))"
      ]
    }
  ],
  "metadata": {
    "colab": {
      "provenance": []
    },
    "kernelspec": {
      "display_name": "Python 3",
      "name": "python3"
    },
    "language_info": {
      "codemirror_mode": {
        "name": "ipython",
        "version": 3
      },
      "file_extension": ".py",
      "mimetype": "text/x-python",
      "name": "python",
      "nbconvert_exporter": "python",
      "pygments_lexer": "ipython3",
      "version": "3.11.6"
    }
  },
  "nbformat": 4,
  "nbformat_minor": 0
}
