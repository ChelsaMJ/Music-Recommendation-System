{
  "cells": [
    {
      "cell_type": "code",
      "execution_count": 188,
      "metadata": {
        "id": "FCW60lByx_Bv"
      },
      "outputs": [],
      "source": [
        "import pandas as pd"
      ]
    },
    {
      "cell_type": "code",
      "execution_count": 200,
      "metadata": {
        "colab": {
          "base_uri": "https://localhost:8080/",
          "height": 374
        },
        "id": "qaLKGLZ4yMgI",
        "outputId": "ec860915-ad2b-437d-fa48-0e4bdf4baed6"
      },
      "outputs": [],
      "source": [
        "df = pd.read_csv(\"spotify_millsongdata.csv\")"
      ]
    },
    {
      "cell_type": "code",
      "execution_count": 201,
      "metadata": {
        "id": "aQ5G2DF8ySIn"
      },
      "outputs": [
        {
          "data": {
            "text/html": [
              "<div>\n",
              "<style scoped>\n",
              "    .dataframe tbody tr th:only-of-type {\n",
              "        vertical-align: middle;\n",
              "    }\n",
              "\n",
              "    .dataframe tbody tr th {\n",
              "        vertical-align: top;\n",
              "    }\n",
              "\n",
              "    .dataframe thead th {\n",
              "        text-align: right;\n",
              "    }\n",
              "</style>\n",
              "<table border=\"1\" class=\"dataframe\">\n",
              "  <thead>\n",
              "    <tr style=\"text-align: right;\">\n",
              "      <th></th>\n",
              "      <th>artist</th>\n",
              "      <th>song</th>\n",
              "      <th>link</th>\n",
              "      <th>text</th>\n",
              "    </tr>\n",
              "  </thead>\n",
              "  <tbody>\n",
              "    <tr>\n",
              "      <th>0</th>\n",
              "      <td>ABBA</td>\n",
              "      <td>Ahe's My Kind Of Girl</td>\n",
              "      <td>/a/abba/ahes+my+kind+of+girl_20598417.html</td>\n",
              "      <td>Look at her face, it's a wonderful face  \\r\\nA...</td>\n",
              "    </tr>\n",
              "    <tr>\n",
              "      <th>1</th>\n",
              "      <td>ABBA</td>\n",
              "      <td>Andante, Andante</td>\n",
              "      <td>/a/abba/andante+andante_20002708.html</td>\n",
              "      <td>Take it easy with me, please  \\r\\nTouch me gen...</td>\n",
              "    </tr>\n",
              "    <tr>\n",
              "      <th>2</th>\n",
              "      <td>ABBA</td>\n",
              "      <td>As Good As New</td>\n",
              "      <td>/a/abba/as+good+as+new_20003033.html</td>\n",
              "      <td>I'll never know why I had to go  \\r\\nWhy I had...</td>\n",
              "    </tr>\n",
              "    <tr>\n",
              "      <th>3</th>\n",
              "      <td>ABBA</td>\n",
              "      <td>Bang</td>\n",
              "      <td>/a/abba/bang_20598415.html</td>\n",
              "      <td>Making somebody happy is a question of give an...</td>\n",
              "    </tr>\n",
              "    <tr>\n",
              "      <th>4</th>\n",
              "      <td>ABBA</td>\n",
              "      <td>Bang-A-Boomerang</td>\n",
              "      <td>/a/abba/bang+a+boomerang_20002668.html</td>\n",
              "      <td>Making somebody happy is a question of give an...</td>\n",
              "    </tr>\n",
              "  </tbody>\n",
              "</table>\n",
              "</div>"
            ],
            "text/plain": [
              "  artist                   song                                        link  \\\n",
              "0   ABBA  Ahe's My Kind Of Girl  /a/abba/ahes+my+kind+of+girl_20598417.html   \n",
              "1   ABBA       Andante, Andante       /a/abba/andante+andante_20002708.html   \n",
              "2   ABBA         As Good As New        /a/abba/as+good+as+new_20003033.html   \n",
              "3   ABBA                   Bang                  /a/abba/bang_20598415.html   \n",
              "4   ABBA       Bang-A-Boomerang      /a/abba/bang+a+boomerang_20002668.html   \n",
              "\n",
              "                                                text  \n",
              "0  Look at her face, it's a wonderful face  \\r\\nA...  \n",
              "1  Take it easy with me, please  \\r\\nTouch me gen...  \n",
              "2  I'll never know why I had to go  \\r\\nWhy I had...  \n",
              "3  Making somebody happy is a question of give an...  \n",
              "4  Making somebody happy is a question of give an...  "
            ]
          },
          "execution_count": 201,
          "metadata": {},
          "output_type": "execute_result"
        }
      ],
      "source": [
        "df.head(5)"
      ]
    },
    {
      "cell_type": "code",
      "execution_count": 202,
      "metadata": {
        "id": "blv7berezeqz"
      },
      "outputs": [
        {
          "data": {
            "text/html": [
              "<div>\n",
              "<style scoped>\n",
              "    .dataframe tbody tr th:only-of-type {\n",
              "        vertical-align: middle;\n",
              "    }\n",
              "\n",
              "    .dataframe tbody tr th {\n",
              "        vertical-align: top;\n",
              "    }\n",
              "\n",
              "    .dataframe thead th {\n",
              "        text-align: right;\n",
              "    }\n",
              "</style>\n",
              "<table border=\"1\" class=\"dataframe\">\n",
              "  <thead>\n",
              "    <tr style=\"text-align: right;\">\n",
              "      <th></th>\n",
              "      <th>artist</th>\n",
              "      <th>song</th>\n",
              "      <th>link</th>\n",
              "      <th>text</th>\n",
              "    </tr>\n",
              "  </thead>\n",
              "  <tbody>\n",
              "    <tr>\n",
              "      <th>57645</th>\n",
              "      <td>Ziggy Marley</td>\n",
              "      <td>Good Old Days</td>\n",
              "      <td>/z/ziggy+marley/good+old+days_10198588.html</td>\n",
              "      <td>Irie days come on play  \\r\\nLet the angels fly...</td>\n",
              "    </tr>\n",
              "    <tr>\n",
              "      <th>57646</th>\n",
              "      <td>Ziggy Marley</td>\n",
              "      <td>Hand To Mouth</td>\n",
              "      <td>/z/ziggy+marley/hand+to+mouth_20531167.html</td>\n",
              "      <td>Power to the workers  \\r\\nMore power  \\r\\nPowe...</td>\n",
              "    </tr>\n",
              "    <tr>\n",
              "      <th>57647</th>\n",
              "      <td>Zwan</td>\n",
              "      <td>Come With Me</td>\n",
              "      <td>/z/zwan/come+with+me_20148981.html</td>\n",
              "      <td>all you need  \\r\\nis something i'll believe  \\...</td>\n",
              "    </tr>\n",
              "    <tr>\n",
              "      <th>57648</th>\n",
              "      <td>Zwan</td>\n",
              "      <td>Desire</td>\n",
              "      <td>/z/zwan/desire_20148986.html</td>\n",
              "      <td>northern star  \\r\\nam i frightened  \\r\\nwhere ...</td>\n",
              "    </tr>\n",
              "    <tr>\n",
              "      <th>57649</th>\n",
              "      <td>Zwan</td>\n",
              "      <td>Heartsong</td>\n",
              "      <td>/z/zwan/heartsong_20148991.html</td>\n",
              "      <td>come in  \\r\\nmake yourself at home  \\r\\ni'm a ...</td>\n",
              "    </tr>\n",
              "  </tbody>\n",
              "</table>\n",
              "</div>"
            ],
            "text/plain": [
              "             artist           song  \\\n",
              "57645  Ziggy Marley  Good Old Days   \n",
              "57646  Ziggy Marley  Hand To Mouth   \n",
              "57647          Zwan   Come With Me   \n",
              "57648          Zwan         Desire   \n",
              "57649          Zwan      Heartsong   \n",
              "\n",
              "                                              link  \\\n",
              "57645  /z/ziggy+marley/good+old+days_10198588.html   \n",
              "57646  /z/ziggy+marley/hand+to+mouth_20531167.html   \n",
              "57647           /z/zwan/come+with+me_20148981.html   \n",
              "57648                 /z/zwan/desire_20148986.html   \n",
              "57649              /z/zwan/heartsong_20148991.html   \n",
              "\n",
              "                                                    text  \n",
              "57645  Irie days come on play  \\r\\nLet the angels fly...  \n",
              "57646  Power to the workers  \\r\\nMore power  \\r\\nPowe...  \n",
              "57647  all you need  \\r\\nis something i'll believe  \\...  \n",
              "57648  northern star  \\r\\nam i frightened  \\r\\nwhere ...  \n",
              "57649  come in  \\r\\nmake yourself at home  \\r\\ni'm a ...  "
            ]
          },
          "execution_count": 202,
          "metadata": {},
          "output_type": "execute_result"
        }
      ],
      "source": [
        "df.tail(5)"
      ]
    },
    {
      "cell_type": "code",
      "execution_count": 203,
      "metadata": {
        "id": "z0euW5GVzn5g"
      },
      "outputs": [
        {
          "data": {
            "text/plain": [
              "(57650, 4)"
            ]
          },
          "execution_count": 203,
          "metadata": {},
          "output_type": "execute_result"
        }
      ],
      "source": [
        "df.shape"
      ]
    },
    {
      "cell_type": "code",
      "execution_count": 204,
      "metadata": {
        "id": "50aNddTnzswh"
      },
      "outputs": [
        {
          "data": {
            "text/plain": [
              "artist    0\n",
              "song      0\n",
              "link      0\n",
              "text      0\n",
              "dtype: int64"
            ]
          },
          "execution_count": 204,
          "metadata": {},
          "output_type": "execute_result"
        }
      ],
      "source": [
        "df.isnull().sum()"
      ]
    },
    {
      "cell_type": "code",
      "execution_count": 205,
      "metadata": {
        "id": "xhxJOVP2zzar"
      },
      "outputs": [],
      "source": [
        "df =df.sample(5000).drop('link', axis=1).reset_index(drop=True)"
      ]
    },
    {
      "cell_type": "code",
      "execution_count": 206,
      "metadata": {
        "id": "N_iY0agy0RAm"
      },
      "outputs": [
        {
          "data": {
            "text/html": [
              "<div>\n",
              "<style scoped>\n",
              "    .dataframe tbody tr th:only-of-type {\n",
              "        vertical-align: middle;\n",
              "    }\n",
              "\n",
              "    .dataframe tbody tr th {\n",
              "        vertical-align: top;\n",
              "    }\n",
              "\n",
              "    .dataframe thead th {\n",
              "        text-align: right;\n",
              "    }\n",
              "</style>\n",
              "<table border=\"1\" class=\"dataframe\">\n",
              "  <thead>\n",
              "    <tr style=\"text-align: right;\">\n",
              "      <th></th>\n",
              "      <th>artist</th>\n",
              "      <th>song</th>\n",
              "      <th>text</th>\n",
              "    </tr>\n",
              "  </thead>\n",
              "  <tbody>\n",
              "    <tr>\n",
              "      <th>0</th>\n",
              "      <td>Kanye West</td>\n",
              "      <td>Dark Fantasy</td>\n",
              "      <td>You might think you've peeped the scene  \\r\\nY...</td>\n",
              "    </tr>\n",
              "    <tr>\n",
              "      <th>1</th>\n",
              "      <td>Kid Rock</td>\n",
              "      <td>What I Learned Out On The Road</td>\n",
              "      <td>Headin' for the south lands  \\r\\nLookin' for s...</td>\n",
              "    </tr>\n",
              "    <tr>\n",
              "      <th>2</th>\n",
              "      <td>Def Leppard</td>\n",
              "      <td>Miss You In A Heartbeat</td>\n",
              "      <td>I believe, that there's something deep inside ...</td>\n",
              "    </tr>\n",
              "    <tr>\n",
              "      <th>3</th>\n",
              "      <td>Lionel Richie</td>\n",
              "      <td>Into You Deep</td>\n",
              "      <td>Hey you  \\r\\nWhere are you going  \\r\\nYou're n...</td>\n",
              "    </tr>\n",
              "    <tr>\n",
              "      <th>4</th>\n",
              "      <td>Joni Mitchell</td>\n",
              "      <td>Ladies Of The Canyon</td>\n",
              "      <td>Trina wears her wampum beads  \\r\\nShe fills he...</td>\n",
              "    </tr>\n",
              "    <tr>\n",
              "      <th>5</th>\n",
              "      <td>Ace Of Base</td>\n",
              "      <td>Perfect World</td>\n",
              "      <td>They say the time has come for us  \\r\\nTo star...</td>\n",
              "    </tr>\n",
              "    <tr>\n",
              "      <th>6</th>\n",
              "      <td>Aiza Seguerra</td>\n",
              "      <td>If</td>\n",
              "      <td>If a picture paints a thousand words  \\r\\nThen...</td>\n",
              "    </tr>\n",
              "    <tr>\n",
              "      <th>7</th>\n",
              "      <td>Ne-Yo</td>\n",
              "      <td>So You Can Cry</td>\n",
              "      <td>So it's over  \\r\\nHe's with someone else and y...</td>\n",
              "    </tr>\n",
              "    <tr>\n",
              "      <th>8</th>\n",
              "      <td>Chaka Khan</td>\n",
              "      <td>The Message In The Middle Of The Bottom</td>\n",
              "      <td>I never meant a single thing when you tried it...</td>\n",
              "    </tr>\n",
              "    <tr>\n",
              "      <th>9</th>\n",
              "      <td>Gordon Lightfoot</td>\n",
              "      <td>Oh, Linda</td>\n",
              "      <td>Oh Linda you done me wrong  \\r\\nI'm gonna sing...</td>\n",
              "    </tr>\n",
              "  </tbody>\n",
              "</table>\n",
              "</div>"
            ],
            "text/plain": [
              "             artist                                     song  \\\n",
              "0        Kanye West                             Dark Fantasy   \n",
              "1          Kid Rock           What I Learned Out On The Road   \n",
              "2       Def Leppard                  Miss You In A Heartbeat   \n",
              "3     Lionel Richie                            Into You Deep   \n",
              "4     Joni Mitchell                     Ladies Of The Canyon   \n",
              "5       Ace Of Base                            Perfect World   \n",
              "6     Aiza Seguerra                                       If   \n",
              "7             Ne-Yo                           So You Can Cry   \n",
              "8        Chaka Khan  The Message In The Middle Of The Bottom   \n",
              "9  Gordon Lightfoot                                Oh, Linda   \n",
              "\n",
              "                                                text  \n",
              "0  You might think you've peeped the scene  \\r\\nY...  \n",
              "1  Headin' for the south lands  \\r\\nLookin' for s...  \n",
              "2  I believe, that there's something deep inside ...  \n",
              "3  Hey you  \\r\\nWhere are you going  \\r\\nYou're n...  \n",
              "4  Trina wears her wampum beads  \\r\\nShe fills he...  \n",
              "5  They say the time has come for us  \\r\\nTo star...  \n",
              "6  If a picture paints a thousand words  \\r\\nThen...  \n",
              "7  So it's over  \\r\\nHe's with someone else and y...  \n",
              "8  I never meant a single thing when you tried it...  \n",
              "9  Oh Linda you done me wrong  \\r\\nI'm gonna sing...  "
            ]
          },
          "execution_count": 206,
          "metadata": {},
          "output_type": "execute_result"
        }
      ],
      "source": [
        "df.head(10)"
      ]
    },
    {
      "cell_type": "code",
      "execution_count": 207,
      "metadata": {
        "id": "Awv9A-dS0VTp"
      },
      "outputs": [
        {
          "data": {
            "text/plain": [
              "\"It feels like I'm walkin' on air  \\r\\nWhen we walk down our street  \\r\\nWhen the neighbors stop to watch us walk by  \\r\\nYou can hear 'em talking (let them talk)  \\r\\n  \\r\\nSometimes I think that you're the only reason  \\r\\nThe sun still shines (when it shines)  \\r\\nAnd when this wicked world starts bringing me down  \\r\\nI tell myself that I'm one lucky guy  \\r\\n  \\r\\n[Chorus]  \\r\\nI got the girl (with all the cards)  \\r\\nI got the girl (she's a work of art)  \\r\\nI got the girl (who's gonna break my heart)  \\r\\n  \\r\\nShe says that someday she's gonna marry me  \\r\\nWhen that day comes that we walk down the aisle  \\r\\nShe'll make me feel like a prince, a lord or a king  \\r\\nShe likes to wear her stripe with her plaids  \\r\\nAnd she won't brush her hair (I swear)  \\r\\nShe don't like wearing shoes in December  \\r\\nBut I don't care (I don't care)  \\r\\n  \\r\\n[Chorus]  \\r\\nI got the girl (with all the cards)  \\r\\nI got the girl (she's a work of art)  \\r\\nI got the girl (who's gonna break my heart)  \\r\\n  \\r\\nIf I was a holy man I'd get down on my knees  \\r\\nSo the angels that watch over her would give a break to me  \\r\\nHoly Mother of saint bubble gum and sister band-aid knees  \\r\\nWon't you please pray for the ones like me  \\r\\n  \\r\\nBut the truth is someday  \\r\\nSomebody is gonna take her (you see)  \\r\\nBut the queen of hearts will always be  \\r\\nA five-year-old princess to me (to me)  \\r\\n  \\r\\n[Chorus]  \\r\\nI got the girl (with all the cards)  \\r\\nI got the girl (she's a work of art)  \\r\\nI got the girl (who's gonna break my heart)  \\r\\n  \\r\\nI got the girl (she's gonna leave her mark)  \\r\\nI got the girl (she's a work of art)  \\r\\nI got the girl (she's gonna break your heart)  \\r\\n  \\r\\nI got the girl\\r\\n\\r\\n\""
            ]
          },
          "execution_count": 207,
          "metadata": {},
          "output_type": "execute_result"
        }
      ],
      "source": [
        "df['text'][10]"
      ]
    },
    {
      "cell_type": "code",
      "execution_count": 208,
      "metadata": {
        "id": "nUF2HSAS0ogg"
      },
      "outputs": [
        {
          "data": {
            "text/plain": [
              "(5000, 3)"
            ]
          },
          "execution_count": 208,
          "metadata": {},
          "output_type": "execute_result"
        }
      ],
      "source": [
        "df.shape"
      ]
    },
    {
      "cell_type": "code",
      "execution_count": 209,
      "metadata": {
        "id": "Z7_ts7JG0pwF"
      },
      "outputs": [
        {
          "data": {
            "text/plain": [
              "0       you might think you've peeped the scene  \\r yo...\n",
              "1       headin' for the south lands  \\r lookin' for so...\n",
              "2       i believe, that there's something deep inside ...\n",
              "3       hey you  \\r where are you going  \\r you're not...\n",
              "4       trina wears her wampum beads  \\r she fills her...\n",
              "                              ...                        \n",
              "4995    i'm afraid, so afraid  \\r that you'll go  \\r a...\n",
              "4996    never fell in love  \\r until i fell in love wi...\n",
              "4997    i wanna tell you bout ooh poo pah doo  \\r baby...\n",
              "4998    she can kill with a smile  \\r she can wound in...\n",
              "4999    just an ordinary song  \\r to a special girl li...\n",
              "Name: text, Length: 5000, dtype: object"
            ]
          },
          "execution_count": 209,
          "metadata": {},
          "output_type": "execute_result"
        }
      ],
      "source": [
        "df['text'].str.lower().replace(r'^\\w\\s', ' ').replace(r'\\n', ' ', regex = True)"
      ]
    },
    {
      "cell_type": "code",
      "execution_count": 210,
      "metadata": {
        "id": "vTZEaXOi1Ip9"
      },
      "outputs": [
        {
          "data": {
            "text/html": [
              "<div>\n",
              "<style scoped>\n",
              "    .dataframe tbody tr th:only-of-type {\n",
              "        vertical-align: middle;\n",
              "    }\n",
              "\n",
              "    .dataframe tbody tr th {\n",
              "        vertical-align: top;\n",
              "    }\n",
              "\n",
              "    .dataframe thead th {\n",
              "        text-align: right;\n",
              "    }\n",
              "</style>\n",
              "<table border=\"1\" class=\"dataframe\">\n",
              "  <thead>\n",
              "    <tr style=\"text-align: right;\">\n",
              "      <th></th>\n",
              "      <th>artist</th>\n",
              "      <th>song</th>\n",
              "      <th>text</th>\n",
              "    </tr>\n",
              "  </thead>\n",
              "  <tbody>\n",
              "    <tr>\n",
              "      <th>4995</th>\n",
              "      <td>Neil Diamond</td>\n",
              "      <td>I'm Afraid</td>\n",
              "      <td>I'm afraid, so afraid  \\r\\nThat you'll go  \\r\\...</td>\n",
              "    </tr>\n",
              "    <tr>\n",
              "      <th>4996</th>\n",
              "      <td>NOFX</td>\n",
              "      <td>Radio</td>\n",
              "      <td>Never fell in love  \\r\\nUntil I fell in love w...</td>\n",
              "    </tr>\n",
              "    <tr>\n",
              "      <th>4997</th>\n",
              "      <td>Tina Turner</td>\n",
              "      <td>Ooh Poo Pah Doo</td>\n",
              "      <td>I wanna tell you bout ooh poo pah doo  \\r\\nBab...</td>\n",
              "    </tr>\n",
              "    <tr>\n",
              "      <th>4998</th>\n",
              "      <td>Regine Velasquez</td>\n",
              "      <td>She's Always A Woman To Me</td>\n",
              "      <td>She can kill with a smile  \\r\\nShe can wound i...</td>\n",
              "    </tr>\n",
              "    <tr>\n",
              "      <th>4999</th>\n",
              "      <td>David Pomeranz</td>\n",
              "      <td>Ordinary Song</td>\n",
              "      <td>Just an ordinary song  \\r\\nTo a special girl l...</td>\n",
              "    </tr>\n",
              "  </tbody>\n",
              "</table>\n",
              "</div>"
            ],
            "text/plain": [
              "                artist                        song  \\\n",
              "4995      Neil Diamond                  I'm Afraid   \n",
              "4996              NOFX                       Radio   \n",
              "4997       Tina Turner             Ooh Poo Pah Doo   \n",
              "4998  Regine Velasquez  She's Always A Woman To Me   \n",
              "4999    David Pomeranz               Ordinary Song   \n",
              "\n",
              "                                                   text  \n",
              "4995  I'm afraid, so afraid  \\r\\nThat you'll go  \\r\\...  \n",
              "4996  Never fell in love  \\r\\nUntil I fell in love w...  \n",
              "4997  I wanna tell you bout ooh poo pah doo  \\r\\nBab...  \n",
              "4998  She can kill with a smile  \\r\\nShe can wound i...  \n",
              "4999  Just an ordinary song  \\r\\nTo a special girl l...  "
            ]
          },
          "execution_count": 210,
          "metadata": {},
          "output_type": "execute_result"
        }
      ],
      "source": [
        "df.tail(5)"
      ]
    },
    {
      "cell_type": "code",
      "execution_count": 211,
      "metadata": {},
      "outputs": [],
      "source": [
        "df['text'] = df['text'].str.lower().replace(r'^\\w\\s', ' ').replace(r'\\n', ' ', regex = True)"
      ]
    },
    {
      "cell_type": "code",
      "execution_count": 212,
      "metadata": {},
      "outputs": [],
      "source": [
        "import nltk\n",
        "#setting nltk data directory to corrct path:\n",
        "nltk.data.path.append(\"D:\\nltk_data\")"
      ]
    },
    {
      "cell_type": "code",
      "execution_count": 214,
      "metadata": {
        "id": "vd3qu_rQ3FP4"
      },
      "outputs": [],
      "source": [
        "import nltk\n",
        "from nltk.stem.porter import PorterStemmer"
      ]
    },
    {
      "cell_type": "code",
      "execution_count": 215,
      "metadata": {
        "id": "UBgnCQAv3Opq"
      },
      "outputs": [],
      "source": [
        "stemmer = PorterStemmer()"
      ]
    },
    {
      "cell_type": "code",
      "execution_count": 216,
      "metadata": {
        "id": "jLM3X2bE3WDQ"
      },
      "outputs": [],
      "source": [
        "def tokenization(txt):\n",
        "  tokens = nltk.word_tokenize(txt)\n",
        "  stemming = [stemmer.stem(w) for w in tokens]\n",
        "  return \" \".join(stemming)\n"
      ]
    },
    {
      "cell_type": "code",
      "execution_count": 217,
      "metadata": {},
      "outputs": [
        {
          "name": "stderr",
          "output_type": "stream",
          "text": [
            "[nltk_data] Downloading package punkt to\n",
            "[nltk_data]     C:\\Users\\Chelsa\\AppData\\Roaming\\nltk_data...\n",
            "[nltk_data]   Package punkt is already up-to-date!\n"
          ]
        },
        {
          "data": {
            "text/plain": [
              "True"
            ]
          },
          "execution_count": 217,
          "metadata": {},
          "output_type": "execute_result"
        }
      ],
      "source": [
        "import nltk\n",
        "nltk.download('punkt')"
      ]
    },
    {
      "cell_type": "code",
      "execution_count": 218,
      "metadata": {
        "id": "jCwuWzCL43B5"
      },
      "outputs": [],
      "source": [
        "df['text'] = df['text'].apply(lambda x: tokenization(x))"
      ]
    },
    {
      "cell_type": "code",
      "execution_count": 219,
      "metadata": {
        "id": "U_H6hsHq4i_K"
      },
      "outputs": [],
      "source": [
        "from sklearn.feature_extraction.text import TfidfVectorizer\n",
        "from sklearn.metrics.pairwise import cosine_similarity"
      ]
    },
    {
      "cell_type": "code",
      "execution_count": 221,
      "metadata": {
        "id": "yOS_DE6L5GQB"
      },
      "outputs": [],
      "source": [
        "tfidvector = TfidfVectorizer(analyzer='word', stop_words='english')\n",
        "matrix = tfidvector.fit_transform(df['text'])\n",
        "similarity = cosine_similarity(matrix)"
      ]
    },
    {
      "cell_type": "code",
      "execution_count": 222,
      "metadata": {},
      "outputs": [
        {
          "data": {
            "text/plain": [
              "array([1.        , 0.01349433, 0.07595616, ..., 0.05138769, 0.10534845,\n",
              "       0.00588234])"
            ]
          },
          "execution_count": 222,
          "metadata": {},
          "output_type": "execute_result"
        }
      ],
      "source": [
        "similarity[0]"
      ]
    },
    {
      "cell_type": "code",
      "execution_count": 225,
      "metadata": {
        "id": "_9kDIrYNHE1n"
      },
      "outputs": [
        {
          "data": {
            "text/html": [
              "<div>\n",
              "<style scoped>\n",
              "    .dataframe tbody tr th:only-of-type {\n",
              "        vertical-align: middle;\n",
              "    }\n",
              "\n",
              "    .dataframe tbody tr th {\n",
              "        vertical-align: top;\n",
              "    }\n",
              "\n",
              "    .dataframe thead th {\n",
              "        text-align: right;\n",
              "    }\n",
              "</style>\n",
              "<table border=\"1\" class=\"dataframe\">\n",
              "  <thead>\n",
              "    <tr style=\"text-align: right;\">\n",
              "      <th></th>\n",
              "      <th>artist</th>\n",
              "      <th>song</th>\n",
              "      <th>text</th>\n",
              "    </tr>\n",
              "  </thead>\n",
              "  <tbody>\n",
              "    <tr>\n",
              "      <th>4996</th>\n",
              "      <td>NOFX</td>\n",
              "      <td>Radio</td>\n",
              "      <td>never fell in love until i fell in love with y...</td>\n",
              "    </tr>\n",
              "  </tbody>\n",
              "</table>\n",
              "</div>"
            ],
            "text/plain": [
              "     artist   song                                               text\n",
              "4996   NOFX  Radio  never fell in love until i fell in love with y..."
            ]
          },
          "execution_count": 225,
          "metadata": {},
          "output_type": "execute_result"
        }
      ],
      "source": [
        "df[df['song'] == 'Radio']"
      ]
    },
    {
      "cell_type": "code",
      "execution_count": 226,
      "metadata": {
        "id": "mk60sbD-HNkw"
      },
      "outputs": [],
      "source": [
        "def recommendation(song_df):\n",
        "  idx = df[df['song']==song_df].index[0]\n",
        "  distances = sorted(list(enumerate(similarity[idx])), reverse=True, key = lambda x:x[1])\n",
        "  songs = []\n",
        "  for m_id in distances[1:30]:\n",
        "    songs.append(df.iloc[m_id[0]].song)\n",
        "  return songs"
      ]
    },
    {
      "cell_type": "code",
      "execution_count": 228,
      "metadata": {
        "id": "ILVN0ImnJZyo"
      },
      "outputs": [
        {
          "data": {
            "text/plain": [
              "['On The Radio',\n",
              " 'Poppies',\n",
              " \"She's Got Nothing On (But The Radio)\",\n",
              " 'Music And Me',\n",
              " 'I Can Hear Music',\n",
              " 'Got To Be Time',\n",
              " 'I Love It Loud',\n",
              " \"Layin' To The Music\",\n",
              " 'Love Is Green',\n",
              " 'If You Know What I Mean',\n",
              " 'Riot',\n",
              " 'Music Of My Heart',\n",
              " 'Star',\n",
              " 'We Got Love',\n",
              " 'Here',\n",
              " 'Anyway',\n",
              " 'Glad I Waited Just For You',\n",
              " 'Rock And Roll Music',\n",
              " 'You Got It',\n",
              " 'You Gotta Be Crazy',\n",
              " \"A Woman's Gotta Have It\",\n",
              " 'Before My Time',\n",
              " \"I Can't Hear The Music\",\n",
              " 'Take Me',\n",
              " \"Don't Mind If I Do\",\n",
              " 'Star Storm',\n",
              " 'Far From Me',\n",
              " 'Sure Feels Like Love',\n",
              " 'Feel For Your Love']"
            ]
          },
          "execution_count": 228,
          "metadata": {},
          "output_type": "execute_result"
        }
      ],
      "source": [
        "recommendation(\"Radio\")"
      ]
    },
    {
      "cell_type": "code",
      "execution_count": 229,
      "metadata": {
        "id": "LuaiB6rUKUDq"
      },
      "outputs": [],
      "source": [
        "import pickle\n",
        "pickle.dump(similarity, open(\"similarity.pkl\", \"wb\"))\n",
        "pickle.dump(df, open(\"df.pkl\", \"wb\"))"
      ]
    }
  ],
  "metadata": {
    "colab": {
      "provenance": []
    },
    "kernelspec": {
      "display_name": "Python 3",
      "name": "python3"
    },
    "language_info": {
      "codemirror_mode": {
        "name": "ipython",
        "version": 3
      },
      "file_extension": ".py",
      "mimetype": "text/x-python",
      "name": "python",
      "nbconvert_exporter": "python",
      "pygments_lexer": "ipython3",
      "version": "3.11.6"
    }
  },
  "nbformat": 4,
  "nbformat_minor": 0
}
